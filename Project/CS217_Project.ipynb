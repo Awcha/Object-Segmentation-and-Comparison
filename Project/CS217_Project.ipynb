{
 "cells": [
  {
   "cell_type": "code",
   "execution_count": 1,
   "id": "c5bc2338",
   "metadata": {},
   "outputs": [
    {
     "ename": "error",
     "evalue": "OpenCV(4.7.0) D:\\a\\opencv-python\\opencv-python\\opencv\\modules\\imgproc\\src\\color.cpp:182: error: (-215:Assertion failed) !_src.empty() in function 'cv::cvtColor'\n",
     "output_type": "error",
     "traceback": [
      "\u001b[1;31m---------------------------------------------------------------------------\u001b[0m",
      "\u001b[1;31merror\u001b[0m                                     Traceback (most recent call last)",
      "Input \u001b[1;32mIn [1]\u001b[0m, in \u001b[0;36m<cell line: 8>\u001b[1;34m()\u001b[0m\n\u001b[0;32m      6\u001b[0m image \u001b[38;5;241m=\u001b[39m cv2\u001b[38;5;241m.\u001b[39mimread(\u001b[38;5;124m'\u001b[39m\u001b[38;5;124m12.jpg\u001b[39m\u001b[38;5;124m'\u001b[39m)\n\u001b[0;32m      7\u001b[0m \u001b[38;5;66;03m# convert the image to grayscale format\u001b[39;00m\n\u001b[1;32m----> 8\u001b[0m img_gray \u001b[38;5;241m=\u001b[39m \u001b[43mcv2\u001b[49m\u001b[38;5;241;43m.\u001b[39;49m\u001b[43mcvtColor\u001b[49m\u001b[43m(\u001b[49m\u001b[43mimage\u001b[49m\u001b[43m,\u001b[49m\u001b[43m \u001b[49m\u001b[43mcv2\u001b[49m\u001b[38;5;241;43m.\u001b[39;49m\u001b[43mCOLOR_BGR2GRAY\u001b[49m\u001b[43m)\u001b[49m\n\u001b[0;32m     10\u001b[0m \u001b[38;5;66;03m# apply binary thresholding\u001b[39;00m\n\u001b[0;32m     11\u001b[0m ret, thresh \u001b[38;5;241m=\u001b[39m cv2\u001b[38;5;241m.\u001b[39mthreshold(img_gray, \u001b[38;5;241m147\u001b[39m, \u001b[38;5;241m255\u001b[39m, cv2\u001b[38;5;241m.\u001b[39mTHRESH_BINARY)\n",
      "\u001b[1;31merror\u001b[0m: OpenCV(4.7.0) D:\\a\\opencv-python\\opencv-python\\opencv\\modules\\imgproc\\src\\color.cpp:182: error: (-215:Assertion failed) !_src.empty() in function 'cv::cvtColor'\n"
     ]
    }
   ],
   "source": [
    "## Using binary image to draw contours.\n",
    "## Not effective!!!\n",
    "import cv2\n",
    " \n",
    "# read the image\n",
    "image = cv2.imread('12.jpg')\n",
    "# convert the image to grayscale format\n",
    "img_gray = cv2.cvtColor(image, cv2.COLOR_BGR2GRAY)\n",
    "\n",
    "# apply binary thresholding\n",
    "ret, thresh = cv2.threshold(img_gray, 147, 255, cv2.THRESH_BINARY)\n",
    "# visualize the binary image\n",
    "cv2.imshow('Binary image', thresh)\n",
    "cv2.waitKey(0)\n",
    "cv2.imwrite('image_thres1.jpg', thresh)\n",
    "cv2.destroyAllWindows()\n",
    "\n",
    "# detect the contours on the binary image using cv2.CHAIN_APPROX_NONE\n",
    "contours, hierarchy = cv2.findContours(image=thresh, mode=cv2.RETR_TREE, method=cv2.CHAIN_APPROX_NONE)\n",
    "                                      \n",
    "# draw contours on the original image\n",
    "image_copy = image.copy()\n",
    "cv2.drawContours(image=image_copy, contours=contours, contourIdx=-1, color=(0, 255, 0), thickness=2, lineType=cv2.LINE_AA)\n",
    "                \n",
    "# see the results\n",
    "cv2.imshow('None approximation', image_copy)\n",
    "cv2.waitKey(0)\n",
    "cv2.imwrite('contours_none_image1.jpg', image_copy)\n",
    "cv2.destroyAllWindows()"
   ]
  },
  {
   "cell_type": "code",
   "execution_count": 3,
   "id": "617d49f7",
   "metadata": {},
   "outputs": [
    {
     "name": "stdout",
     "output_type": "stream",
     "text": [
      "<class 'tuple'>\n",
      "<class 'tuple'>\n",
      "<class 'tuple'>\n",
      "<class 'tuple'>\n",
      "<class 'tuple'>\n",
      "<class 'tuple'>\n",
      "<class 'tuple'>\n",
      "<class 'tuple'>\n",
      "<class 'tuple'>\n",
      "<class 'tuple'>\n",
      "<class 'tuple'>\n"
     ]
    }
   ],
   "source": [
    "# Same as above\n",
    "import cv2\n",
    "import numpy as np\n",
    "\n",
    "for i in range(1,12):\n",
    "    frame = cv2.imread(\"./images/{}.jpg\".format(i))\n",
    "    new_width = 640\n",
    "    new_height = 480\n",
    "\n",
    "    # Resize the frame\n",
    "    frame = cv2.resize(frame, (new_width, new_height))\n",
    "    blurred_frame = cv2.GaussianBlur(frame, (5, 5), 0)\n",
    "    hsv = cv2.cvtColor(frame, cv2.COLOR_BGR2HSV)\n",
    "\n",
    "    blue = 142\n",
    "    lower = np.array([0,0,40])\n",
    "    upper = np.array([225,225,blue])\n",
    "    mask = cv2.inRange(hsv, lower, upper)\n",
    "    contours, _ = cv2.findContours(mask, cv2.RETR_TREE, cv2.CHAIN_APPROX_NONE)\n",
    "    print(type(contours))\n",
    "\n",
    "    c = 0\n",
    "    for contour in contours:\n",
    "        area = cv2.contourArea(contour)\n",
    "        \n",
    "        if area > 2000:\n",
    "            temp_blue = blue\n",
    "            rect = cv2.boundingRect(contour)\n",
    "            x, y, w, h = rect\n",
    "            roi = frame[y:y+h, x:x+w]\n",
    "            h_roi = hsv[y:y+h, x:x+w]\n",
    "            \n",
    "            # If the area is tooooooooo large. The contour contains more than one object, do it again!\n",
    "            if area > 60000:\n",
    "                segment = []\n",
    "                while len(segment) < 1:\n",
    "                    temp_blue -= 3\n",
    "                    lower = np.array([0,0,40])\n",
    "                    upper = np.array([225,225,temp_blue])\n",
    "                    mask = cv2.inRange(h_roi, lower, upper)\n",
    "                    new_contours, _ = cv2.findContours(mask, cv2.RETR_TREE, cv2.CHAIN_APPROX_NONE)\n",
    "                    filtered_contours = []\n",
    "                    for cont in new_contours:\n",
    "                        narea = cv2.contourArea(cont)\n",
    "                        if narea > 2000:\n",
    "                            filtered_contours.append(cont)\n",
    "                    if len(filtered_contours) > 1:\n",
    "                        segment += filtered_contours\n",
    "                        \n",
    "                for cont in segment:\n",
    "                    rect = cv2.boundingRect(cont)\n",
    "                    x, y, w, h = rect\n",
    "                    new_roi = roi[y:y+h, x:x+w]\n",
    "                    cv2.imwrite('./res/{}-object{}.jpg'.format(i,c), new_roi)\n",
    "                    c += 1\n",
    "#                     cv2.rectangle(frame, (x, y), (x + w, y + h), (0, 255, 0), 2)\n",
    "                        \n",
    "                continue \n",
    "\n",
    "\n",
    "            cv2.imwrite('./res/{}-object{}.jpg'.format(i,c), roi)\n",
    "            c += 1\n",
    "#             cv2.rectangle(frame, (x, y), (x + w, y + h), (0, 255, 0), 2)\n",
    "             \n",
    "\n",
    "#     cv2.imwrite('./res/segment{}.jpg'.format(i), frame)\n",
    "    cv2.destroyAllWindows()"
   ]
  },
  {
   "cell_type": "code",
   "execution_count": 2,
   "id": "2330a03b",
   "metadata": {
    "scrolled": true
   },
   "outputs": [
    {
     "ename": "KeyboardInterrupt",
     "evalue": "",
     "output_type": "error",
     "traceback": [
      "\u001b[1;31m---------------------------------------------------------------------------\u001b[0m",
      "\u001b[1;31mKeyboardInterrupt\u001b[0m                         Traceback (most recent call last)",
      "Input \u001b[1;32mIn [2]\u001b[0m, in \u001b[0;36m<cell line: 33>\u001b[1;34m()\u001b[0m\n\u001b[0;32m     44\u001b[0m cv2\u001b[38;5;241m.\u001b[39mimshow(\u001b[38;5;124m'\u001b[39m\u001b[38;5;124mMask Image\u001b[39m\u001b[38;5;124m'\u001b[39m, mask)\n\u001b[0;32m     45\u001b[0m \u001b[38;5;66;03m# checking if q key is pressed to break out of loop\u001b[39;00m\n\u001b[1;32m---> 46\u001b[0m key \u001b[38;5;241m=\u001b[39m \u001b[43mcv2\u001b[49m\u001b[38;5;241;43m.\u001b[39;49m\u001b[43mwaitKey\u001b[49m\u001b[43m(\u001b[49m\u001b[38;5;241;43m25\u001b[39;49m\u001b[43m)\u001b[49m\n\u001b[0;32m     47\u001b[0m \u001b[38;5;28;01mif\u001b[39;00m key \u001b[38;5;241m==\u001b[39m \u001b[38;5;28mord\u001b[39m(\u001b[38;5;124m'\u001b[39m\u001b[38;5;124mq\u001b[39m\u001b[38;5;124m'\u001b[39m):\n\u001b[0;32m     48\u001b[0m     \u001b[38;5;28;01mbreak\u001b[39;00m\n",
      "\u001b[1;31mKeyboardInterrupt\u001b[0m: "
     ]
    }
   ],
   "source": [
    "# The code for finding upper and lower value\n",
    "\n",
    "import cv2\n",
    "#empty function\n",
    "def doNothing(x):\n",
    "    pass\n",
    "#creating a resizable window named Track Bars\n",
    "cv2.namedWindow('Track Bars', cv2.WINDOW_NORMAL)\n",
    "#creating track bars for gathering threshold values of red green and blue\n",
    "cv2.createTrackbar('min_blue', 'Track Bars', 0, 255, doNothing)\n",
    "cv2.createTrackbar('min_green', 'Track Bars', 0, 255, doNothing)\n",
    "cv2.createTrackbar('min_red', 'Track Bars', 0, 255, doNothing)\n",
    "\n",
    "cv2.createTrackbar('max_blue', 'Track Bars', 0, 255, doNothing)\n",
    "cv2.createTrackbar('max_green', 'Track Bars', 0, 255, doNothing)\n",
    "cv2.createTrackbar('max_red', 'Track Bars', 0, 255, doNothing)\n",
    "\n",
    "# reading the image\n",
    "object_image = cv2.imread('./images/6.jpg')\n",
    "\n",
    "#resizing the image for viewing purposes\n",
    "resized_image = cv2.resize(object_image,(800, 626))\n",
    "#converting into HSV color model\n",
    "hsv_image = cv2.cvtColor(resized_image, cv2.COLOR_BGR2HSV)\n",
    "\n",
    "#showing both resized and hsv image in named windows\n",
    "cv2.imshow('Base Image', resized_image)\n",
    "cv2.imshow('HSV Image', hsv_image)\n",
    "\n",
    "#creating a loop to get the feedback of the changes in trackbars\n",
    "while True:\n",
    "    #reading the trackbar values for thresholds\n",
    "    min_blue = cv2.getTrackbarPos('min_blue', 'Track Bars')\n",
    "    min_green = cv2.getTrackbarPos('min_green', 'Track Bars')\n",
    "    min_red = cv2.getTrackbarPos('min_red', 'Track Bars')\n",
    "    \n",
    "    max_blue = cv2.getTrackbarPos('max_blue', 'Track Bars')\n",
    "    max_green = cv2.getTrackbarPos('max_green', 'Track Bars')\n",
    "    max_red = cv2.getTrackbarPos('max_red', 'Track Bars')\n",
    "    \n",
    "    #using inrange function to turn on the image pixels where object threshold is matched\n",
    "    mask = cv2.inRange(hsv_image, (min_blue, min_green, min_red), (max_blue, max_green, max_red))\n",
    "    #showing the mask image\n",
    "    cv2.imshow('Mask Image', mask)\n",
    "    # checking if q key is pressed to break out of loop\n",
    "    key = cv2.waitKey(25)\n",
    "    if key == ord('q'):\n",
    "        break\n",
    "\n",
    "#printing the threshold values for usage in detection application\n",
    "print(f'min_blue {min_blue}  min_green {min_green} min_red {min_red}')\n",
    "print(f'max_blue {max_blue}  max_green {max_green} max_red {max_red}')\n",
    "#destroying all windows\n",
    "cv2.destroyAllWindows()"
   ]
  },
  {
   "cell_type": "code",
   "execution_count": 1,
   "id": "e8131d08",
   "metadata": {},
   "outputs": [],
   "source": [
    "import numpy as np\n",
    "import cv2 as cv\n",
    "from matplotlib import pyplot as plt\n",
    "MIN_MATCH_COUNT = 10\n",
    "img1 = cv.imread('./res/1-object0.jpg', cv.IMREAD_GRAYSCALE)          # queryImage\n",
    "img2 = cv.imread('./res/2-object0.jpg', cv.IMREAD_GRAYSCALE) # trainImage\n",
    "# Initiate SIFT detector\n",
    "sift = cv.SIFT_create()\n",
    "# find the keypoints and descriptors with SIFT\n",
    "kp1, des1 = sift.detectAndCompute(img1,None)\n",
    "kp2, des2 = sift.detectAndCompute(img2,None)\n",
    "FLANN_INDEX_KDTREE = 1\n",
    "index_params = dict(algorithm = FLANN_INDEX_KDTREE, trees = 5)\n",
    "search_params = dict(checks = 50)\n",
    "flann = cv.FlannBasedMatcher(index_params, search_params)\n",
    "matches = flann.knnMatch(des1,des2,k=2)\n",
    "# store all the good matches as per Lowe's ratio test.\n",
    "good = []\n",
    "for m,n in matches:\n",
    "    if m.distance < 0.7*n.distance:\n",
    "        good.append(m)"
   ]
  },
  {
   "cell_type": "code",
   "execution_count": 2,
   "id": "c9fdf924",
   "metadata": {},
   "outputs": [
    {
     "name": "stdout",
     "output_type": "stream",
     "text": [
      "Not enough matches are found - 1/10\n"
     ]
    }
   ],
   "source": [
    "if len(good)>MIN_MATCH_COUNT:\n",
    "    src_pts = np.float32([ kp1[m.queryIdx].pt for m in good ]).reshape(-1,1,2)\n",
    "    dst_pts = np.float32([ kp2[m.trainIdx].pt for m in good ]).reshape(-1,1,2)\n",
    "    M, mask = cv.findHomography(src_pts, dst_pts, cv.RANSAC,5.0)\n",
    "    matchesMask = mask.ravel().tolist()\n",
    "    h,w = img1.shape\n",
    "    pts = np.float32([ [0,0],[0,h-1],[w-1,h-1],[w-1,0] ]).reshape(-1,1,2)\n",
    "    dst = cv.perspectiveTransform(pts,M)\n",
    "    img2 = cv.polylines(img2,[np.int32(dst)],True,255,3, cv.LINE_AA)\n",
    "else:\n",
    "    print( \"Not enough matches are found - {}/{}\".format(len(good), MIN_MATCH_COUNT) )\n",
    "    matchesMask = None"
   ]
  },
  {
   "cell_type": "code",
   "execution_count": 3,
   "id": "33979b66",
   "metadata": {},
   "outputs": [
    {
     "data": {
      "image/png": "[encoded data removed]",
      "text/plain": [
       "<Figure size 432x288 with 1 Axes>"
      ]
     },
     "metadata": {
      "needs_background": "light"
     },
     "output_type": "display_data"
    },
    {
     "data": {
      "text/plain": [
       "(<matplotlib.image.AxesImage at 0x1dbea016370>, None)"
      ]
     },
     "execution_count": 3,
     "metadata": {},
     "output_type": "execute_result"
    }
   ],
   "source": [
    "draw_params = dict(matchColor = (0,255,0), # draw matches in green color\n",
    "                   singlePointColor = None,\n",
    "                   matchesMask = matchesMask, # draw only inliers\n",
    "                   flags = 2)\n",
    "img3 = cv.drawMatches(img1,kp1,img2,kp2,good,None,**draw_params)\n",
    "plt.imshow(img3, 'gray'),plt.show()"
   ]
  },
  {
   "cell_type": "code",
   "execution_count": null,
   "id": "d5c17cdb",
   "metadata": {},
   "outputs": [],
   "source": []
  }
 ],
 "metadata": {
  "kernelspec": {
   "display_name": "Python 3 (ipykernel)",
   "language": "python",
   "name": "python3"
  },
  "language_info": {
   "codemirror_mode": {
    "name": "ipython",
    "version": 3
   },
   "file_extension": ".py",
   "mimetype": "text/x-python",
   "name": "python",
   "nbconvert_exporter": "python",
   "pygments_lexer": "ipython3",
   "version": "3.9.12"
  }
 },
 "nbformat": 4,
 "nbformat_minor": 5
}
